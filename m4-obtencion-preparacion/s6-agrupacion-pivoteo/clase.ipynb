{
 "cells": [
  {
   "cell_type": "code",
   "execution_count": 20,
   "id": "2683aa3a",
   "metadata": {},
   "outputs": [
    {
     "data": {
      "text/html": [
       "<div>\n",
       "<style scoped>\n",
       "    .dataframe tbody tr th:only-of-type {\n",
       "        vertical-align: middle;\n",
       "    }\n",
       "\n",
       "    .dataframe tbody tr th {\n",
       "        vertical-align: top;\n",
       "    }\n",
       "\n",
       "    .dataframe thead th {\n",
       "        text-align: right;\n",
       "    }\n",
       "</style>\n",
       "<table border=\"1\" class=\"dataframe\">\n",
       "  <thead>\n",
       "    <tr style=\"text-align: right;\">\n",
       "      <th></th>\n",
       "      <th>Continente</th>\n",
       "      <th>Pais</th>\n",
       "      <th>Ventas</th>\n",
       "    </tr>\n",
       "  </thead>\n",
       "  <tbody>\n",
       "    <tr>\n",
       "      <th>0</th>\n",
       "      <td>America</td>\n",
       "      <td>Chile</td>\n",
       "      <td>100</td>\n",
       "    </tr>\n",
       "    <tr>\n",
       "      <th>1</th>\n",
       "      <td>America</td>\n",
       "      <td>Argentina</td>\n",
       "      <td>200</td>\n",
       "    </tr>\n",
       "    <tr>\n",
       "      <th>2</th>\n",
       "      <td>Europa</td>\n",
       "      <td>España</td>\n",
       "      <td>150</td>\n",
       "    </tr>\n",
       "    <tr>\n",
       "      <th>3</th>\n",
       "      <td>Europa</td>\n",
       "      <td>Francia</td>\n",
       "      <td>189</td>\n",
       "    </tr>\n",
       "  </tbody>\n",
       "</table>\n",
       "</div>"
      ],
      "text/plain": [
       "  Continente       Pais  Ventas\n",
       "0    America      Chile     100\n",
       "1    America  Argentina     200\n",
       "2     Europa     España     150\n",
       "3     Europa    Francia     189"
      ]
     },
     "execution_count": 20,
     "metadata": {},
     "output_type": "execute_result"
    }
   ],
   "source": [
    "import pandas as pd\n",
    "datos={\n",
    "    'Continente':['America','America','Europa','Europa'],\n",
    "    'Pais':['Chile','Argentina','España','Francia'],\n",
    "    'Ventas':[100,200,150,189]\n",
    "    }\n",
    "df=pd.DataFrame(datos)\n",
    "df"
   ]
  },
  {
   "cell_type": "markdown",
   "id": "7cc397fa",
   "metadata": {},
   "source": [
    "## Indexacion jeraquica"
   ]
  },
  {
   "cell_type": "code",
   "execution_count": 21,
   "id": "393841b7",
   "metadata": {},
   "outputs": [
    {
     "data": {
      "text/html": [
       "<div>\n",
       "<style scoped>\n",
       "    .dataframe tbody tr th:only-of-type {\n",
       "        vertical-align: middle;\n",
       "    }\n",
       "\n",
       "    .dataframe tbody tr th {\n",
       "        vertical-align: top;\n",
       "    }\n",
       "\n",
       "    .dataframe thead th {\n",
       "        text-align: right;\n",
       "    }\n",
       "</style>\n",
       "<table border=\"1\" class=\"dataframe\">\n",
       "  <thead>\n",
       "    <tr style=\"text-align: right;\">\n",
       "      <th></th>\n",
       "      <th></th>\n",
       "      <th>Ventas</th>\n",
       "    </tr>\n",
       "    <tr>\n",
       "      <th>Continente</th>\n",
       "      <th>Pais</th>\n",
       "      <th></th>\n",
       "    </tr>\n",
       "  </thead>\n",
       "  <tbody>\n",
       "    <tr>\n",
       "      <th rowspan=\"2\" valign=\"top\">America</th>\n",
       "      <th>Chile</th>\n",
       "      <td>100</td>\n",
       "    </tr>\n",
       "    <tr>\n",
       "      <th>Argentina</th>\n",
       "      <td>200</td>\n",
       "    </tr>\n",
       "    <tr>\n",
       "      <th rowspan=\"2\" valign=\"top\">Europa</th>\n",
       "      <th>España</th>\n",
       "      <td>150</td>\n",
       "    </tr>\n",
       "    <tr>\n",
       "      <th>Francia</th>\n",
       "      <td>189</td>\n",
       "    </tr>\n",
       "  </tbody>\n",
       "</table>\n",
       "</div>"
      ],
      "text/plain": [
       "                      Ventas\n",
       "Continente Pais             \n",
       "America    Chile         100\n",
       "           Argentina     200\n",
       "Europa     España        150\n",
       "           Francia       189"
      ]
     },
     "execution_count": 21,
     "metadata": {},
     "output_type": "execute_result"
    }
   ],
   "source": [
    "df_indexado=df\n",
    "df_indexado.set_index(['Continente','Pais'],inplace=True)\n",
    "df_indexado"
   ]
  },
  {
   "cell_type": "markdown",
   "id": "b9553e04",
   "metadata": {},
   "source": [
    "## GroupBy"
   ]
  },
  {
   "cell_type": "code",
   "execution_count": 22,
   "id": "7d44e8b2",
   "metadata": {},
   "outputs": [
    {
     "data": {
      "text/plain": [
       "Continente\n",
       "America    300\n",
       "Europa     339\n",
       "Name: Ventas, dtype: int64"
      ]
     },
     "execution_count": 22,
     "metadata": {},
     "output_type": "execute_result"
    }
   ],
   "source": [
    "df_grouped=df.groupby('Continente')['Ventas'].sum()\n",
    "df_grouped"
   ]
  },
  {
   "cell_type": "markdown",
   "id": "b0b788b4",
   "metadata": {},
   "source": [
    "## Pivot"
   ]
  },
  {
   "cell_type": "code",
   "execution_count": 28,
   "id": "7a12df1b",
   "metadata": {},
   "outputs": [
    {
     "name": "stdout",
     "output_type": "stream",
     "text": [
      "Continente  America  Europa\n",
      "Pais                       \n",
      "Argentina     200.0     NaN\n",
      "Chile         100.0     NaN\n",
      "España          NaN   150.0\n",
      "Francia         NaN   189.0\n"
     ]
    }
   ],
   "source": [
    "df=pd.DataFrame(datos)\n",
    "df_pivot=df.pivot(index='Pais',columns='Continente',values='Ventas')\n",
    "print(df_pivot)"
   ]
  },
  {
   "cell_type": "markdown",
   "id": "7b9b4125",
   "metadata": {},
   "source": [
    "## Merge"
   ]
  },
  {
   "cell_type": "code",
   "execution_count": 26,
   "id": "3055e4d9",
   "metadata": {},
   "outputs": [
    {
     "name": "stdout",
     "output_type": "stream",
     "text": [
      "   ID Nombre\n",
      "0   1    Ana\n",
      "1   2   Luis\n",
      "2   3  Pedro\n",
      "   ID  Ventas\n",
      "0   1    1000\n",
      "1   2    1500\n",
      "2   3    2000\n",
      "   ID Nombre  Ventas\n",
      "0   1    Ana    1000\n",
      "1   2   Luis    1500\n",
      "2   3  Pedro    2000\n"
     ]
    }
   ],
   "source": [
    "df1=pd.DataFrame({\n",
    "    'ID':[1,2,3],\n",
    "    'Nombre':['Ana','Luis','Pedro']\n",
    "})\n",
    "df2=pd.DataFrame({\n",
    "    'ID':[1,2,3],\n",
    "    'Ventas':[1000,1500,2000]\n",
    "})\n",
    "print(df1)\n",
    "print(df2)\n",
    "df_merge=pd.merge(df1,df2,on='ID')\n",
    "print(df_merge)"
   ]
  }
 ],
 "metadata": {
  "kernelspec": {
   "display_name": "Python 3",
   "language": "python",
   "name": "python3"
  },
  "language_info": {
   "codemirror_mode": {
    "name": "ipython",
    "version": 3
   },
   "file_extension": ".py",
   "mimetype": "text/x-python",
   "name": "python",
   "nbconvert_exporter": "python",
   "pygments_lexer": "ipython3",
   "version": "3.13.4"
  }
 },
 "nbformat": 4,
 "nbformat_minor": 5
}
