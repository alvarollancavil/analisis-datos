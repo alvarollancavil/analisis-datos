{
 "cells": [
  {
   "cell_type": "markdown",
   "id": "ff1d6250",
   "metadata": {},
   "source": [
    "# Ejercicio 1"
   ]
  },
  {
   "cell_type": "code",
   "execution_count": null,
   "id": "8cc46894",
   "metadata": {},
   "outputs": [],
   "source": [
    "# Importar módulos\n",
    "import pandas as pd\n",
    "import numpy as np"
   ]
  },
  {
   "cell_type": "code",
   "execution_count": null,
   "id": "a85c076a",
   "metadata": {},
   "outputs": [],
   "source": [
    "df=pd.read_csv('cotizacion.csv', delimiter=';')"
   ]
  },
  {
   "cell_type": "code",
   "execution_count": null,
   "id": "68bb375a",
   "metadata": {},
   "outputs": [],
   "source": [
    "df.info()"
   ]
  },
  {
   "cell_type": "code",
   "execution_count": null,
   "id": "ceb2ffb9",
   "metadata": {},
   "outputs": [],
   "source": [
    "df"
   ]
  },
  {
   "cell_type": "code",
   "execution_count": null,
   "id": "6ba1eacd",
   "metadata": {},
   "outputs": [],
   "source": [
    "df['Volumen']=df['Volumen'].astype('str')"
   ]
  },
  {
   "cell_type": "code",
   "execution_count": null,
   "id": "d4eb2cde",
   "metadata": {},
   "outputs": [],
   "source": [
    "df[['Vol1','Vol2']]=df['Volumen'].str.rsplit('.',n=1, expand=True)"
   ]
  },
  {
   "cell_type": "code",
   "execution_count": null,
   "id": "be062302",
   "metadata": {},
   "outputs": [],
   "source": [
    "df['Vol1'] = df['Vol1'].str.replace('.', '', regex=False)"
   ]
  },
  {
   "cell_type": "code",
   "execution_count": null,
   "id": "3233e3b8",
   "metadata": {},
   "outputs": [],
   "source": [
    "df['Volumen'] = df['Vol1'].str.cat(df['Vol2'], sep='.')"
   ]
  },
  {
   "cell_type": "code",
   "execution_count": null,
   "id": "aa107834",
   "metadata": {},
   "outputs": [],
   "source": [
    "df.head(3)"
   ]
  },
  {
   "cell_type": "code",
   "execution_count": null,
   "id": "ae6077bb",
   "metadata": {},
   "outputs": [],
   "source": [
    "for x in df[['Final','Máximo','Mínimo','Efectivo']]:\n",
    "    df[x] = df[x].str.replace(',', '.').astype(float)"
   ]
  },
  {
   "cell_type": "code",
   "execution_count": null,
   "id": "9692f007",
   "metadata": {},
   "outputs": [],
   "source": [
    "df['Volumen']=df['Volumen'].astype('float')"
   ]
  },
  {
   "cell_type": "code",
   "execution_count": null,
   "id": "8aeac339",
   "metadata": {},
   "outputs": [],
   "source": [
    "df.info()"
   ]
  },
  {
   "cell_type": "code",
   "execution_count": null,
   "id": "6f95e375",
   "metadata": {},
   "outputs": [],
   "source": [
    "df=df.iloc[:,np.r_[0:6]]"
   ]
  },
  {
   "cell_type": "code",
   "execution_count": null,
   "id": "d7092410",
   "metadata": {},
   "outputs": [],
   "source": [
    "df.head(3)"
   ]
  },
  {
   "cell_type": "code",
   "execution_count": null,
   "id": "64737e6a",
   "metadata": {},
   "outputs": [],
   "source": [
    "def resumen(df):\n",
    "    columnas_numericas = df.select_dtypes(include=['number']).columns\n",
    "    nombres = []\n",
    "    minimo = []\n",
    "    maximo = []\n",
    "    media = []\n",
    "\n",
    "    for x in columnas_numericas:\n",
    "        nombres.append(x)\n",
    "        minimo.append(df[x].min())\n",
    "        maximo.append(df[x].max())\n",
    "        media.append(df[x].mean())\n",
    "\n",
    "    df_resumen = pd.DataFrame({\n",
    "        'Variable': nombres,\n",
    "        'Mínimo': minimo,\n",
    "        'Máximo': maximo,\n",
    "        'Media': media\n",
    "    })\n",
    "    \n",
    "    return df_resumen"
   ]
  },
  {
   "cell_type": "code",
   "execution_count": null,
   "id": "93a44c8d",
   "metadata": {},
   "outputs": [],
   "source": [
    "resumen(df)"
   ]
  },
  {
   "cell_type": "markdown",
   "id": "d9ce3b78",
   "metadata": {},
   "source": [
    "# Ejercicio 2"
   ]
  },
  {
   "cell_type": "markdown",
   "id": "0a2b79f9",
   "metadata": {},
   "source": [
    "## 1"
   ]
  },
  {
   "cell_type": "code",
   "execution_count": null,
   "id": "46af37e5",
   "metadata": {},
   "outputs": [],
   "source": [
    "# Importa df \n",
    "df=pd.read_csv('titanic.csv')\n"
   ]
  },
  {
   "cell_type": "markdown",
   "id": "df28716d",
   "metadata": {},
   "source": [
    "## 2"
   ]
  },
  {
   "cell_type": "code",
   "execution_count": null,
   "id": "2b61a901",
   "metadata": {},
   "outputs": [],
   "source": [
    "df.info()"
   ]
  },
  {
   "cell_type": "code",
   "execution_count": null,
   "id": "b7f40bab",
   "metadata": {},
   "outputs": [],
   "source": [
    "df.head(10)"
   ]
  },
  {
   "cell_type": "code",
   "execution_count": null,
   "id": "c986b680",
   "metadata": {},
   "outputs": [],
   "source": [
    "df.tail(10)"
   ]
  },
  {
   "cell_type": "markdown",
   "id": "5953f9ec",
   "metadata": {},
   "source": [
    "## 3"
   ]
  },
  {
   "cell_type": "code",
   "execution_count": null,
   "id": "3d44ed85",
   "metadata": {},
   "outputs": [],
   "source": [
    "df[df['PassengerId']==148]"
   ]
  },
  {
   "cell_type": "markdown",
   "id": "116d1606",
   "metadata": {},
   "source": [
    "## 4"
   ]
  },
  {
   "cell_type": "code",
   "execution_count": null,
   "id": "9cd4002c",
   "metadata": {},
   "outputs": [],
   "source": [
    "df.iloc[::2]"
   ]
  },
  {
   "cell_type": "markdown",
   "id": "738a4857",
   "metadata": {},
   "source": [
    "## 5"
   ]
  },
  {
   "cell_type": "code",
   "execution_count": null,
   "id": "22831e12",
   "metadata": {},
   "outputs": [],
   "source": [
    "df[df['Pclass']==1].sort_values('Name')"
   ]
  },
  {
   "cell_type": "markdown",
   "id": "e97edcee",
   "metadata": {},
   "source": [
    "## 6"
   ]
  },
  {
   "cell_type": "code",
   "execution_count": null,
   "id": "4eea8873",
   "metadata": {},
   "outputs": [],
   "source": [
    "(df.Survived.value_counts() / len(df))*100"
   ]
  },
  {
   "cell_type": "markdown",
   "id": "b1315738",
   "metadata": {},
   "source": [
    "## 7"
   ]
  },
  {
   "cell_type": "code",
   "execution_count": null,
   "id": "3545263d",
   "metadata": {},
   "outputs": [],
   "source": [
    "survived=df[df['Survived']==1]"
   ]
  },
  {
   "cell_type": "code",
   "execution_count": null,
   "id": "9d95e92c",
   "metadata": {},
   "outputs": [],
   "source": [
    "round(pd.crosstab(survived['Pclass'],survived['Survived'], normalize='columns')*100, 2)"
   ]
  },
  {
   "cell_type": "markdown",
   "id": "252f3f47",
   "metadata": {},
   "source": [
    "## 8"
   ]
  },
  {
   "cell_type": "code",
   "execution_count": null,
   "id": "f4cbfbe7",
   "metadata": {},
   "outputs": [],
   "source": [
    "df['Age'].isnull().value_counts()"
   ]
  },
  {
   "cell_type": "code",
   "execution_count": null,
   "id": "05e78abb",
   "metadata": {},
   "outputs": [],
   "source": [
    "df.dropna(subset='Age',inplace=True)"
   ]
  },
  {
   "cell_type": "code",
   "execution_count": null,
   "id": "e2440d38",
   "metadata": {},
   "outputs": [],
   "source": [
    "df['Age'].isnull().value_counts()"
   ]
  },
  {
   "cell_type": "markdown",
   "id": "84abe4d8",
   "metadata": {},
   "source": [
    "## 9"
   ]
  },
  {
   "cell_type": "code",
   "execution_count": null,
   "id": "a2030ead",
   "metadata": {},
   "outputs": [],
   "source": [
    "df[df['Sex']=='female'].groupby(['Pclass','Sex'])[['Age']].mean()"
   ]
  },
  {
   "cell_type": "markdown",
   "id": "17d44026",
   "metadata": {},
   "source": [
    "## 10"
   ]
  },
  {
   "cell_type": "code",
   "execution_count": null,
   "id": "1d53e514",
   "metadata": {},
   "outputs": [],
   "source": [
    "def legal_age(x):\n",
    "    if x > 18:\n",
    "        return True\n",
    "    else:\n",
    "        return False"
   ]
  },
  {
   "cell_type": "code",
   "execution_count": null,
   "id": "75e4c839",
   "metadata": {},
   "outputs": [],
   "source": [
    "df['legal_age'] = df['Age'].apply(legal_age)\n"
   ]
  },
  {
   "cell_type": "code",
   "execution_count": null,
   "id": "4f7748b2",
   "metadata": {},
   "outputs": [],
   "source": [
    "df.tail(20)"
   ]
  },
  {
   "cell_type": "markdown",
   "id": "a215c6a9",
   "metadata": {},
   "source": [
    "## 11"
   ]
  },
  {
   "cell_type": "code",
   "execution_count": null,
   "id": "57ca5f49",
   "metadata": {},
   "outputs": [],
   "source": [
    "pd.crosstab(df['Pclass'],df['legal_age'],normalize=True)*100"
   ]
  },
  {
   "cell_type": "markdown",
   "id": "3e290249",
   "metadata": {},
   "source": [
    "# Ejercicio 3"
   ]
  },
  {
   "cell_type": "markdown",
   "id": "7acbed18",
   "metadata": {},
   "source": [
    "## 1"
   ]
  },
  {
   "cell_type": "code",
   "execution_count": null,
   "id": "85c9fff8",
   "metadata": {},
   "outputs": [],
   "source": [
    "emisiones2016=pd.read_csv('emisiones-2016.csv', delimiter=';')\n",
    "emisiones2017=pd.read_csv('emisiones-2017.csv', delimiter=';')\n",
    "emisiones2018=pd.read_csv('emisiones-2018.csv', delimiter=';')\n",
    "emisiones2019=pd.read_csv('emisiones-2019.csv', delimiter=';')"
   ]
  },
  {
   "cell_type": "code",
   "execution_count": null,
   "id": "ab7c22f7",
   "metadata": {},
   "outputs": [],
   "source": [
    "print(emisiones2016.info())\n",
    "print(emisiones2017.info())\n",
    "print(emisiones2018.info())\n",
    "print(emisiones2019.info())"
   ]
  },
  {
   "cell_type": "code",
   "execution_count": null,
   "id": "cda12f0c",
   "metadata": {},
   "outputs": [],
   "source": [
    "df = pd.concat([emisiones2016, emisiones2017, emisiones2018, emisiones2019], ignore_index=True)"
   ]
  },
  {
   "cell_type": "code",
   "execution_count": null,
   "id": "c14d68af",
   "metadata": {},
   "outputs": [],
   "source": [
    "df.info()"
   ]
  },
  {
   "cell_type": "markdown",
   "id": "c0760c51",
   "metadata": {},
   "source": [
    "## 2"
   ]
  },
  {
   "cell_type": "code",
   "execution_count": null,
   "id": "33d84946",
   "metadata": {},
   "outputs": [],
   "source": [
    "df=df.filter(regex='^ESTACION$|^MAGNITUD$|^ANO$|MES$|^D')"
   ]
  },
  {
   "cell_type": "code",
   "execution_count": null,
   "id": "dc933c87",
   "metadata": {},
   "outputs": [],
   "source": [
    "df.info()"
   ]
  },
  {
   "cell_type": "markdown",
   "id": "f8a8f74c",
   "metadata": {},
   "source": [
    "## 3"
   ]
  },
  {
   "cell_type": "code",
   "execution_count": null,
   "id": "b05a07b9",
   "metadata": {},
   "outputs": [],
   "source": [
    "df=pd.melt(df, id_vars=df.iloc[:,np.r_[0:4]],value_vars=df.iloc[:,np.r_[4:35]],var_name='DIA', value_name='CONTAMINANTES')"
   ]
  },
  {
   "cell_type": "code",
   "execution_count": null,
   "id": "f440c268",
   "metadata": {},
   "outputs": [],
   "source": [
    "df.head(3)\n",
    "df.tail(3)\n"
   ]
  },
  {
   "cell_type": "markdown",
   "id": "56875f8e",
   "metadata": {},
   "source": [
    "## 4"
   ]
  },
  {
   "cell_type": "code",
   "execution_count": null,
   "id": "396aba2d",
   "metadata": {},
   "outputs": [],
   "source": [
    "df['DIA']=df['DIA'].str.replace('D','')"
   ]
  },
  {
   "cell_type": "code",
   "execution_count": null,
   "id": "b9e69b80",
   "metadata": {},
   "outputs": [],
   "source": [
    "df.info()"
   ]
  },
  {
   "cell_type": "code",
   "execution_count": null,
   "id": "97159829",
   "metadata": {},
   "outputs": [],
   "source": [
    "df['FECHA']=df[\"ANO\"].astype(str) + \"/\" + df[\"MES\"].astype(str) + \"/\" + df[\"DIA\"]"
   ]
  },
  {
   "cell_type": "code",
   "execution_count": null,
   "id": "e2ce3809",
   "metadata": {},
   "outputs": [],
   "source": [
    "df['FECHA']=pd.to_datetime(df['FECHA'], errors='coerce')"
   ]
  },
  {
   "cell_type": "code",
   "execution_count": null,
   "id": "03c4e99a",
   "metadata": {},
   "outputs": [],
   "source": [
    "df"
   ]
  },
  {
   "cell_type": "markdown",
   "id": "263c06a9",
   "metadata": {},
   "source": [
    "## 5"
   ]
  },
  {
   "cell_type": "code",
   "execution_count": null,
   "id": "52f30186",
   "metadata": {},
   "outputs": [],
   "source": [
    "np.isnat(df['FECHA']).value_counts()"
   ]
  },
  {
   "cell_type": "code",
   "execution_count": null,
   "id": "5b29fd7b",
   "metadata": {},
   "outputs": [],
   "source": [
    "df=df[~np.isnat(df['FECHA'])]"
   ]
  },
  {
   "cell_type": "code",
   "execution_count": null,
   "id": "7bf11d95",
   "metadata": {},
   "outputs": [],
   "source": [
    "np.isnat(df['FECHA']).value_counts()"
   ]
  },
  {
   "cell_type": "code",
   "execution_count": null,
   "id": "91437bdb",
   "metadata": {},
   "outputs": [],
   "source": [
    "df=df.sort_values(by=['ESTACION', 'FECHA'])"
   ]
  },
  {
   "cell_type": "markdown",
   "id": "b6a8020b",
   "metadata": {},
   "source": [
    "## 6"
   ]
  },
  {
   "cell_type": "code",
   "execution_count": null,
   "id": "5f9a01b2",
   "metadata": {},
   "outputs": [],
   "source": [
    "print('Los valores de estación son: ',df['ESTACION'].unique())\n",
    "print('Los valores de magnitud son: ',df['MAGNITUD'].unique())"
   ]
  },
  {
   "cell_type": "markdown",
   "id": "59ccaa2b",
   "metadata": {},
   "source": [
    "## 7"
   ]
  },
  {
   "cell_type": "code",
   "execution_count": null,
   "id": "a525307e",
   "metadata": {},
   "outputs": [],
   "source": [
    "def obtener_emisiones(data, estacion, magnitud, fecha_inicio, fecha_fin, \n",
    "                        col_estacion='ESTACION', col_fecha='FECHA',col_magnitud='MAGNITUD', col_emisiones='CONTAMINANTES'):\n",
    "  \n",
    "    estaciones_validas = data[col_estacion].unique()\n",
    "    magnitudes_validas = data[col_magnitud].unique()\n",
    "\n",
    "    if estacion not in estaciones_validas:\n",
    "        raise ValueError(f\"Estación '{estacion}' no encontrada. Estaciones válidas: {', '.join(map(str, estaciones_validas))}\")\n",
    "    \n",
    "    if magnitud not in magnitudes_validas:\n",
    "        raise ValueError(f\"Magnitud '{magnitud}' no encontrada. Magnitudes válidas: {', '.join(map(str, magnitudes_validas))}\")\n",
    "    \n",
    "    try:\n",
    "        fecha_inicio_dt = pd.to_datetime(fecha_inicio)\n",
    "        fecha_fin_dt = pd.to_datetime(fecha_fin)\n",
    "    except ValueError as e:\n",
    "        raise ValueError(f\"Formato de fecha inválido. Use 'YYYY-MM-DD'. Error: {str(e)}\")\n",
    "    \n",
    "    if fecha_inicio_dt > fecha_fin_dt:\n",
    "        raise ValueError(f\"Fecha de inicio {fecha_inicio} debe ser anterior o igual a fecha fin {fecha_fin}\")\n",
    "    \n",
    "    data[col_fecha] = pd.to_datetime(data[col_fecha])\n",
    "    min_fecha = data[col_fecha].min()\n",
    "    max_fecha = data[col_fecha].max()\n",
    "    \n",
    "    if fecha_inicio_dt > max_fecha or fecha_inicio_dt < min_fecha or fecha_fin_dt > max_fecha or fecha_fin_dt < min_fecha:\n",
    "        raise ValueError(f\"Rango de fechas fuera de los datos disponibles. Rango en datos: {min_fecha.date()} a {max_fecha.date()}\")\n",
    "    \n",
    "    filtro = df[(data[col_estacion]==estacion)&(data[col_magnitud]==magnitud)&(data[col_fecha]>=fecha_inicio_dt)&\n",
    "                (data['FECHA']<=fecha_fin_dt)]\n",
    "    filtro.reset_index(drop=True, inplace=True)\n",
    "    filtro=filtro[[col_estacion,col_magnitud,col_fecha,col_emisiones]] \n",
    "    filtro=filtro.rename(columns={col_emisiones:'EMISIONES'})\n",
    "    return filtro\n"
   ]
  },
  {
   "cell_type": "code",
   "execution_count": null,
   "id": "2024838a",
   "metadata": {},
   "outputs": [],
   "source": [
    "obtener_emisiones(df, 4, 7, '2016-01-10', '2016-01-20', col_estacion='ESTACION', col_magnitud='MAGNITUD', col_fecha='FECHA', col_emisiones='CONTAMINANTES')"
   ]
  },
  {
   "cell_type": "code",
   "execution_count": null,
   "id": "6f4725f9",
   "metadata": {},
   "outputs": [],
   "source": [
    "# def resumen_emisiones_agrupadas(datos, col_magnitud='MAGNITUD', col_emision='EMISION'):\n",
    "#     import pandas as pd\n",
    "#     import numpy as np\n",
    "#     from scipy.stats import kurtosis\n",
    "\n",
    "    \n",
    "#     columnas_requeridas = {col_magnitud, col_emision}\n",
    "#     if not columnas_requeridas.issubset(datos.columns):\n",
    "#         faltantes = columnas_requeridas - set(datos.columns)\n",
    "#         raise ValueError(f\"Columnas faltantes en los datos: {', '.join(faltantes)}\")\n",
    "    \n",
    "#     if not pd.api.types.is_numeric_dtype(datos[col_emision]):\n",
    "#         raise ValueError(f\"La columna '{col_emision}' debe contener valores numéricos\")\n",
    "    \n",
    "#     def cv(x):\n",
    "#         return np.std(x, ddof=1) / np.mean(x) * 100 if np.mean(x) != 0 else np.nan\n",
    "    \n",
    "#     def kurt(x):\n",
    "#         return kurtosis(x, fisher=True, bias=False)\n",
    "    \n",
    "#     resumen = datos.groupby(col_magnitud)[col_emision].agg(\n",
    "#         Muestras='count',\n",
    "#         Mínimo='min',\n",
    "#         Máximo='max',\n",
    "#         Media='mean',\n",
    "#         Mediana='median',\n",
    "#         Desv_Estándar='std',\n",
    "#         Varianza='var',\n",
    "#         Sesgo='skew',\n",
    "#         Curtosis=kurt,\n",
    "#         Percentil_25=lambda x: x.quantile(0.25),\n",
    "#         Percentil_75=lambda x: x.quantile(0.75),\n",
    "#         IQR=lambda x: x.quantile(0.75) - x.quantile(0.25),\n",
    "#         Coef_Variación=cv \n",
    "#     )\n",
    "    \n",
    "#     # Reordenar columnas para mejor presentación\n",
    "#     column_order = [\n",
    "#         'Muestras', 'Mínimo', 'Percentil_25', 'Mediana', 'Media', \n",
    "#         'Percentil_75', 'Máximo', 'IQR', 'Desv_Estándar', \n",
    "#         'Varianza', 'Coef_Variación', 'Sesgo','Curtosis'\n",
    "#     ]\n",
    "    \n",
    "#     return resumen[column_order].round(2)"
   ]
  },
  {
   "cell_type": "code",
   "execution_count": null,
   "id": "dba108b9",
   "metadata": {},
   "outputs": [],
   "source": [
    "# resumen_emisiones_agrupadas(df, 'MAGNITUD', 'CONTAMINANTES')"
   ]
  },
  {
   "cell_type": "markdown",
   "id": "b802afdc",
   "metadata": {},
   "source": [
    "## 10"
   ]
  },
  {
   "cell_type": "code",
   "execution_count": null,
   "id": "4ca2df2b",
   "metadata": {},
   "outputs": [],
   "source": [
    "def resumenDescriptivo(estacion, contaminante):\n",
    "    return df[(df.ESTACION == estacion) & (df.MAGNITUD == contaminante)].CONTAMINANTES.describe()\n",
    "\n",
    "estacion=4\n",
    "contaminante=6\n",
    "print(f\"Resumen descriptivo para estación {estacion} y contaminante {contaminante}:\\n{resumenDescriptivo(estacion, contaminante)}\")\n",
    "estacion=60\n",
    "contaminante=14\n",
    "print(f\"Resumen descriptivo para estación {estacion} y contaminante {contaminante}:\\n{resumenDescriptivo(estacion, contaminante)}\")\n"
   ]
  }
 ],
 "metadata": {
  "kernelspec": {
   "display_name": "Python 3",
   "language": "python",
   "name": "python3"
  },
  "language_info": {
   "codemirror_mode": {
    "name": "ipython",
    "version": 3
   },
   "file_extension": ".py",
   "mimetype": "text/x-python",
   "name": "python",
   "nbconvert_exporter": "python",
   "pygments_lexer": "ipython3",
   "version": "3.13.4"
  }
 },
 "nbformat": 4,
 "nbformat_minor": 5
}
